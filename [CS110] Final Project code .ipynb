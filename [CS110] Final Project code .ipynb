{
 "cells": [
  {
   "cell_type": "markdown",
   "metadata": {},
   "source": [
    "## Appendix 1: Dictionary of cities"
   ]
  },
  {
   "cell_type": "code",
   "execution_count": 1,
   "metadata": {},
   "outputs": [
    {
     "data": {
      "text/plain": [
       "{'Seoul': 0,\n",
       " 'Hyderabad': 1,\n",
       " 'Ho Chi Minh': 2,\n",
       " 'Kuala Lumpur': 3,\n",
       " 'Singapore': 4,\n",
       " 'Bangkok': 5,\n",
       " 'Tokyo': 6,\n",
       " 'Hongkong': 7,\n",
       " 'Mumbai': 8}"
      ]
     },
     "execution_count": 1,
     "metadata": {},
     "output_type": "execute_result"
    }
   ],
   "source": [
    "# Here is the list of cities \n",
    "cities_list = [\"Seoul\", \"Hyderabad\", \"Ho Chi Minh\", \"Kuala Lumpur\", \n",
    "              \"Singapore\", \"Bangkok\", \"Tokyo\", \"Hongkong\", \"Mumbai\"]\n",
    "\n",
    "# Transform the list to dictionary so we can access id number of each city later \n",
    "cities = {key: value for value, key in enumerate(cities_list)}\n",
    "cities"
   ]
  },
  {
   "cell_type": "code",
   "execution_count": 2,
   "metadata": {},
   "outputs": [
    {
     "data": {
      "text/plain": [
       "{0: 'Seoul',\n",
       " 1: 'Hyderabad',\n",
       " 2: 'Ho Chi Minh',\n",
       " 3: 'Kuala Lumpur',\n",
       " 4: 'Singapore',\n",
       " 5: 'Bangkok',\n",
       " 6: 'Tokyo',\n",
       " 7: 'Hongkong',\n",
       " 8: 'Mumbai'}"
      ]
     },
     "execution_count": 2,
     "metadata": {},
     "output_type": "execute_result"
    }
   ],
   "source": [
    "# Create an inversed dictionary to translate the id number to city name later \n",
    "cities_reverse = {value: key for key, value in cities.items()}\n",
    "cities_reverse"
   ]
  },
  {
   "cell_type": "markdown",
   "metadata": {},
   "source": [
    "## Appendix 2: Test cases "
   ]
  },
  {
   "cell_type": "code",
   "execution_count": 3,
   "metadata": {},
   "outputs": [],
   "source": [
    "# 3 test cases to find the cheapest flight for Minervans \n",
    "# The data is the actual price from Google Flights and rounded to the nearest multiple of 5 \n",
    "test1 = [(\"Seoul\", \"Bangkok\", 315), (\"Seoul\", \"Singapore\", 360), (\"Seoul\", \"Kuala Lumpur\", 245), \n",
    "         (\"Bangkok\", \"Hyderabad\", 280), (\"Kuala Lumpur\", \"Hyderabad\", 105), (\"Singapore\", \"Hyderabad\", 250)]\n",
    "test2 = [(\"Seoul\", \"Bangkok\", 315), (\"Seoul\", \"Singapore\", 360), (\"Seoul\", \"Kuala Lumpur\", 245), \n",
    "         (\"Bangkok\", \"Hyderabad\", 280), (\"Kuala Lumpur\", \"Hyderabad\", 105), (\"Singapore\", \"Hyderabad\", 250),\n",
    "         (\"Seoul\", \"Ho Chi Minh\", 200), (\"Ho Chi Minh\", \"Singapore\", 45), (\"Bangkok\", \"Singapore\", 70)]\n",
    "test3 = [(\"Tokyo\", \"Bangkok\", 180), (\"Tokyo\", \"Hongkong\", 550), (\"Hongkong\", \"Hyderabad\", 470), \n",
    "         (\"Bangkok\", \"Hyderabad\", 280), (\"Bangkok\", \"Singapore\", 70), (\"Singapore\", \"Hyderabad\", 250),\n",
    "         (\"Bangkok\", \"Mumbai\", 180), (\"Mumbai\", \"Hyderabad\", 40)]"
   ]
  },
  {
   "cell_type": "markdown",
   "metadata": {},
   "source": [
    "## Appendix 3: 3 graph algorithms"
   ]
  },
  {
   "cell_type": "markdown",
   "metadata": {},
   "source": [
    "### Bellman-Ford algorithm"
   ]
  },
  {
   "cell_type": "code",
   "execution_count": 4,
   "metadata": {},
   "outputs": [],
   "source": [
    "# Declare global variables \n",
    "INF = float(\"inf\")\n",
    "MAX = 9 # MAX is 9 because we have 9 cities in the list of cities \n",
    "\n",
    "# Class Edge to store the information of each edge in the edge list \n",
    "class Edge:\n",
    "    def __init__(self, source, target, weight):\n",
    "        self.source = source \n",
    "        self.target = target \n",
    "        self.weight = weight \n",
    "\n",
    "# Function to create one-dimensional graph from the edge list \n",
    "def graph_1D(dictionary, edge_list):\n",
    "    graph = []\n",
    "    # Loop through each edge in the edge_list \n",
    "    for i in range(len(edge_list)):\n",
    "        # u, v are the 2 cities\n",
    "        # w is the price flying from city u to city v \n",
    "        u, v, w = edge_list[i]\n",
    "        # Get the id number of each city through the dictionary \n",
    "        u = dictionary[u]\n",
    "        v = dictionary[v]\n",
    "        # Append it to the one-dimensional graph \n",
    "        graph.append(Edge(u, v, w))\n",
    "    return graph \n",
    "\n",
    "# Function Bellman-Ford\n",
    "def BellmanFord(start, target, nodes, dictionary, dictionary_reverse, edge_list):\n",
    "    \"\"\"\n",
    "    \n",
    "    Inputs: \n",
    "    start: Starting node\n",
    "    target: Target node \n",
    "    nodes: Number of nodes in the graph \n",
    "    dictionary: The dictionary to translate the names of the node to their ID numbers \n",
    "    dictionary_reverse: The dictionary to translate the ID numbers of the nodes to their names \n",
    "    edge_list: The edge list representing the flying routes between cities \n",
    "    \n",
    "    Output:\n",
    "    dist[dictionary[target]]: The shortest distance from the start node to the target node \n",
    "    \n",
    "    \"\"\"\n",
    "    # Prepare the data structures \n",
    "    graph = graph_1D(dictionary, edge_list) # To store the nodes in the graph \n",
    "    dist = [INF for i in range(MAX)] # To store the distance from one node to another \n",
    "    global pathBF # To store the path from one node to another \n",
    "    pathBF = [-1 for i in range(MAX)]\n",
    "    edges = len(edge_list) # Number of edges in the graph \n",
    "    \n",
    "    dist[dictionary[start]] = 0 # Initialize the function by setting the distance from the starting node to itself as 0 \n",
    "    # Loop through all the nodes (n-1) times \n",
    "    for i in range(1, nodes):\n",
    "        # Loop through all the edges \n",
    "        for j in range(edges):\n",
    "            u = graph[j].source\n",
    "            v = graph[j].target \n",
    "            w = graph[j].weight\n",
    "            # If there exists a route from source u to target v with lower cost than the current one\n",
    "            # then we update the distance of target v \n",
    "            if (dist[u] != INF) and (dist[u] + w < dist[v]):\n",
    "                dist[v] = dist[u] + w  \n",
    "                # We also update the path to node v through u \n",
    "                pathBF[v] = u \n",
    "                \n",
    "    # Return the shortest distance from start node to target node\n",
    "    return dist[dictionary[target]]\n",
    "\n",
    "def printPath(start, target, dictionary, dictionary_reverse):\n",
    "    \"\"\"\n",
    "    \n",
    "    Inputs:\n",
    "    start: Starting node\n",
    "    target: Target node \n",
    "    dictionary: The dictionary to translate the names of the node to their ID numbers \n",
    "    dictionary_reverse: The dictionary to translate the ID numbers of the nodes to their names     \n",
    "    \n",
    "    Output: \n",
    "    The function directly prints out the path from the starting node to the target node \n",
    "    \n",
    "    \"\"\"\n",
    "    # Take the ID number of the start and target node \n",
    "    s, t = dictionary[start], dictionary[target]\n",
    "    # The list to store the sequence of the nodes \n",
    "    lst = []\n",
    "    \n",
    "    # Base case: If the target node is the same as the start node, then we just simply print it out \n",
    "    if t == s:\n",
    "        print(dictionary_reverse[s])\n",
    "        return \n",
    "    # Base case: There is no path from the start node to the target node, noted by \"-1\"\n",
    "    # So we print \"No path\"\n",
    "    elif pathBF[t] == -1:\n",
    "        print(\"No path\")\n",
    "        return \n",
    "    \n",
    "    while True:\n",
    "        # Tracking the path from the start node to the target node in the reversed order\n",
    "        # We are back tracking from the target node back to the start node \n",
    "        lst.append(t)\n",
    "        t = pathBF[t]\n",
    "        # When we reach the starting node, break the while loop \n",
    "        if t == s:\n",
    "            lst.append(s)\n",
    "            break\n",
    "            \n",
    "    # Reverse the sequence to print it out \n",
    "    lst.reverse()\n",
    "    # Print out the order from start node to target node \n",
    "    for i in range(len(lst)-1):\n",
    "        print(dictionary_reverse[lst[i]], end = \" => \")\n",
    "    print(dictionary_reverse[lst[-1]])"
   ]
  },
  {
   "cell_type": "code",
   "execution_count": 5,
   "metadata": {},
   "outputs": [
    {
     "name": "stdout",
     "output_type": "stream",
     "text": [
      "Minimum cost from Seoul to Hyderabad is $350\n",
      "Seoul => Kuala Lumpur => Hyderabad\n"
     ]
    }
   ],
   "source": [
    "# Test cases \n",
    "ans = BellmanFord(\"Seoul\", \"Hyderabad\", 5, cities, cities_reverse, test1)\n",
    "print(\"Minimum cost from Seoul to Hyderabad is ${}\".format(ans))\n",
    "\n",
    "# Print the path \n",
    "printPath(\"Seoul\", \"Hyderabad\", cities, cities_reverse)"
   ]
  },
  {
   "cell_type": "code",
   "execution_count": 6,
   "metadata": {},
   "outputs": [
    {
     "name": "stdout",
     "output_type": "stream",
     "text": [
      "Minimum cost from Seoul to Hyderabad is $350\n",
      "Seoul => Kuala Lumpur => Hyderabad\n"
     ]
    }
   ],
   "source": [
    "ans = BellmanFord(\"Seoul\", \"Hyderabad\", 6, cities, cities_reverse, test2)\n",
    "print(\"Minimum cost from Seoul to Hyderabad is ${}\".format(ans))\n",
    "\n",
    "# Print the path \n",
    "printPath(\"Seoul\", \"Hyderabad\", cities, cities_reverse)"
   ]
  },
  {
   "cell_type": "code",
   "execution_count": 7,
   "metadata": {},
   "outputs": [
    {
     "name": "stdout",
     "output_type": "stream",
     "text": [
      "Minimum cost from Tokyo to Hyderabad is $400\n",
      "Tokyo => Bangkok => Mumbai => Hyderabad\n"
     ]
    }
   ],
   "source": [
    "ans = BellmanFord(\"Tokyo\", \"Hyderabad\", 6, cities, cities_reverse, test3)\n",
    "print(\"Minimum cost from Tokyo to Hyderabad is ${}\".format(ans))\n",
    "\n",
    "# Print the path \n",
    "printPath(\"Tokyo\", \"Hyderabad\", cities, cities_reverse)"
   ]
  },
  {
   "cell_type": "markdown",
   "metadata": {},
   "source": [
    "### Dijkstra's algorithm"
   ]
  },
  {
   "cell_type": "code",
   "execution_count": 8,
   "metadata": {},
   "outputs": [],
   "source": [
    "# Import library \n",
    "import queue \n",
    "\n",
    "# Declare global variables \n",
    "INF = float(\"inf\")\n",
    "MAX = 9\n",
    "\n",
    "# Class Node to store the information of each node in the graph: its ID number and distance\n",
    "class Node:\n",
    "    def __init__(self, ID, distance):\n",
    "        self.ID = ID \n",
    "        self.distance = distance \n",
    "    \n",
    "    # To organize the node from the shortest distance to longest \n",
    "    def __lt__(self, other):\n",
    "        return self.distance <= other.distance\n",
    "\n",
    "# Function to create two-dimensional graph from the edge list \n",
    "def graph_2D(dictionary, edge_list):\n",
    "    graph = [[] for i in range(MAX)]\n",
    "    for i in range(len(edge_list)):\n",
    "        city1 = dictionary[edge_list[i][0]]\n",
    "        city2 = dictionary[edge_list[i][1]]\n",
    "        distance = edge_list[i][2]\n",
    "        graph[city1].append(Node(city2, distance))\n",
    "    return graph \n",
    "        \n",
    "# Function Dijkstra\n",
    "def Dijkstra(start, target, nodes, dictionary, dictionary_reverse, edge_list):\n",
    "    \"\"\"\n",
    "    Inputs:\n",
    "    start: Starting node\n",
    "    target: Target node \n",
    "    nodes: Number of nodes in the graph \n",
    "    dictionary: The dictionary to translate the names of the node to their ID numbers \n",
    "    dictionary_reverse: The dictionary to translate the ID numbers of the nodes to their names \n",
    "    edge_list: The edge list representing the flying routes between cities \n",
    "        \n",
    "    Output:\n",
    "    dist[dictionary[target]]: The shortest distance from the start node to the target node \n",
    "\n",
    "    \"\"\"\n",
    "    \n",
    "    # Prepare the data structures \n",
    "    graph = graph_2D(dictionary, edge_list) # To store the nodes in the graph\n",
    "    dist = [INF for i in range(MAX)] # To store the distance from one node to another\n",
    "    global pathD # To store the path from one node to another\n",
    "    pathD = [-1 for i in range(MAX)] \n",
    "    \n",
    "    # Priority queue to get the nodes with shortest distance \n",
    "    pq = queue.PriorityQueue()\n",
    "    # Initialize the function by putting the start node to the queue, distance 0 \n",
    "    pq.put(Node(dictionary[start], 0))\n",
    "    dist[dictionary[start]] = 0 \n",
    "    \n",
    "    # Run the while loop when we still have nodes in the priority queue\n",
    "    while not pq.empty():\n",
    "        # Get the top node in the queue\n",
    "        top = pq.get()\n",
    "        u = top.ID\n",
    "        w = top.distance \n",
    "        # For all neighbor nodes in graph of u \n",
    "        for neighbor in graph[u]:\n",
    "            # If there exists a route from node u to neighbor with lower cost than the current one\n",
    "            # then we update the distance of neighbor node\n",
    "            if neighbor.distance + w < dist[neighbor.ID]:\n",
    "                dist[neighbor.ID] = w + neighbor.distance\n",
    "                # We put this node and its updated distance to the priority queue\n",
    "                pq.put(Node(neighbor.ID, dist[neighbor.ID]))\n",
    "                # We also update the path to node neighbor through u \n",
    "                pathD[neighbor.ID] = u \n",
    "                \n",
    "    # Return the shortest distance from start node to target node\n",
    "    return dist[dictionary[target]]\n",
    "\n",
    "def printPath(start, target, dictionary, dictionary_reverse):\n",
    "    \"\"\"\n",
    "    \n",
    "    Inputs:\n",
    "    start: Starting node\n",
    "    target: Target node \n",
    "    dictionary: The dictionary to translate the names of the node to their ID numbers \n",
    "    dictionary_reverse: The dictionary to translate the ID numbers of the nodes to their names     \n",
    "    \n",
    "    Output: \n",
    "    The function directly prints out the path from the starting node to the target node \n",
    "    \n",
    "    \"\"\"\n",
    "    # Take the ID number of the start and target node \n",
    "    s, t = dictionary[start], dictionary[target]\n",
    "    # The list to store the sequence of the nodes \n",
    "    lst = []\n",
    "    \n",
    "    # Base case: If the target node is the same as the start node, then we just simply print it out \n",
    "    if t == s:\n",
    "        print(dictionary_reverse[s])\n",
    "        return \n",
    "    # Base case: There is no path from the start node to the target node, noted by \"-1\"\n",
    "    # So we print \"No path\"\n",
    "    elif pathD[t] == -1:\n",
    "        print(\"No path\")\n",
    "        return \n",
    "    while True:\n",
    "        # Tracking the path from the start node to the target node in the reversed order\n",
    "        # We are back tracking from the target node back to the start node \n",
    "        lst.append(t)\n",
    "        t = pathD[t]\n",
    "        # When we reach the starting node, break the while loop \n",
    "        if t == s:\n",
    "            lst.append(s)\n",
    "            break\n",
    "            \n",
    "    # Reverse the sequence to print it out \n",
    "    lst.reverse()\n",
    "    # Print out the order from start node to target node \n",
    "    for i in range(len(lst)-1):\n",
    "        print(dictionary_reverse[lst[i]], end = \" => \")\n",
    "    print(dictionary_reverse[lst[-1]])        "
   ]
  },
  {
   "cell_type": "code",
   "execution_count": 9,
   "metadata": {},
   "outputs": [
    {
     "name": "stdout",
     "output_type": "stream",
     "text": [
      "Minimum cost from Seoul to Hyderabad is $350\n",
      "Seoul => Kuala Lumpur => Hyderabad\n"
     ]
    }
   ],
   "source": [
    "# Test cases \n",
    "ans = Dijkstra(\"Seoul\", \"Hyderabad\", 5, cities, cities_reverse, test1)\n",
    "print(\"Minimum cost from Seoul to Hyderabad is ${}\".format(ans))\n",
    "\n",
    "# Print the path \n",
    "printPath(\"Seoul\", \"Hyderabad\", cities, cities_reverse)"
   ]
  },
  {
   "cell_type": "code",
   "execution_count": 10,
   "metadata": {},
   "outputs": [
    {
     "name": "stdout",
     "output_type": "stream",
     "text": [
      "Minimum cost from Seoul to Hyderabad is $350\n",
      "Seoul => Kuala Lumpur => Hyderabad\n"
     ]
    }
   ],
   "source": [
    "ans = Dijkstra(\"Seoul\", \"Hyderabad\", 6, cities, cities_reverse, test2)\n",
    "print(\"Minimum cost from Seoul to Hyderabad is ${}\".format(ans))\n",
    "\n",
    "# Print the path \n",
    "printPath(\"Seoul\", \"Hyderabad\", cities, cities_reverse)"
   ]
  },
  {
   "cell_type": "code",
   "execution_count": 11,
   "metadata": {},
   "outputs": [
    {
     "name": "stdout",
     "output_type": "stream",
     "text": [
      "Minimum cost from Tokyo to Hyderabad is $400\n",
      "Tokyo => Bangkok => Mumbai => Hyderabad\n"
     ]
    }
   ],
   "source": [
    "ans = Dijkstra(\"Tokyo\", \"Hyderabad\", 6, cities, cities_reverse, test3)\n",
    "print(\"Minimum cost from Tokyo to Hyderabad is ${}\".format(ans))\n",
    "\n",
    "# Print the path \n",
    "printPath(\"Tokyo\", \"Hyderabad\", cities, cities_reverse)"
   ]
  },
  {
   "cell_type": "markdown",
   "metadata": {},
   "source": [
    "### Floyd-Warshall algorithm"
   ]
  },
  {
   "cell_type": "code",
   "execution_count": 12,
   "metadata": {},
   "outputs": [],
   "source": [
    "# Declare global variables \n",
    "INF = float(\"inf\")\n",
    "MAX = 9\n",
    "\n",
    "# Function Floyd-Warshall algorithm \n",
    "def FloydWarshall(start, target, nodes, dictionary, dictionary_reverse, edge_list):\n",
    "    \"\"\"\n",
    "    \n",
    "    Inputs: \n",
    "    start: Starting node\n",
    "    target: Target node \n",
    "    nodes: Number of nodes in the graph \n",
    "    dictionary: The dictionary to translate the names of the node to their ID numbers \n",
    "    dictionary_reverse: The dictionary to translate the ID numbers of the nodes to their names \n",
    "    edge_list: The edge list representing the flying routes between cities \n",
    "    \n",
    "    Output:\n",
    "    dist[dictionary[start]][dictionary[target]]: The shortest distance from the start node to the target node \n",
    "    \n",
    "    \"\"\"\n",
    "    \n",
    "    # Initialize the data structures \n",
    "    graph = [[INF for i in range(MAX)] for j in range(MAX)] # To store the nodes in the graph \n",
    "    dist = [[INF for i in range(MAX)] for j in range(MAX)] # To store the distance from one node to another \n",
    "    global pathFW\n",
    "    pathFW = [[-1 for i in range(MAX)] for j in range(MAX)] # To store the path from one node to another \n",
    "\n",
    "    # If the starting and ending nodes are the same, then there is no route between them\n",
    "    for i in range(MAX):\n",
    "        for j in range(MAX):\n",
    "            if i == j:\n",
    "                graph[i][j] = 0 \n",
    "                \n",
    "    # Update the information in graph, dist, path according to the edge list\n",
    "    for i in range(len(edge_list)):\n",
    "        city1 = dictionary[edge_list[i][0]]\n",
    "        city2 = dictionary[edge_list[i][1]]\n",
    "        distance = edge_list[i][2]\n",
    "        graph[city1][city2] = distance \n",
    "        dist[city1][city2] = distance \n",
    "        pathFW[city1][city2] = city1 \n",
    "        \n",
    "    # Run 3 for loops to update the distance \n",
    "    for k in range(MAX):\n",
    "        for i in range(MAX):\n",
    "            for j in range(MAX):\n",
    "            # If there exists a node k such that going from i to j through k is shorter than going directly from i to j \n",
    "            # then we update the distance from i to j \n",
    "                if dist[i][j] > dist[i][k] + dist[k][j]:\n",
    "                    dist[i][j] = dist[i][k] + dist[k][j]\n",
    "                    # We also update the path from node i to node j accordingly\n",
    "                    pathFW[i][j] = pathFW[k][j]\n",
    "                    \n",
    "    # Return the shortest distance from start node to target node\n",
    "    return dist[dictionary[start]][dictionary[target]]\n",
    "    \n",
    "def printPath(start, target, dictionary, dictionary_reverse):\n",
    "    \"\"\"\n",
    "    \n",
    "    Inputs:\n",
    "    start: Starting node\n",
    "    target: Target node \n",
    "    dictionary: The dictionary to translate the names of the node to their ID numbers \n",
    "    dictionary_reverse: The dictionary to translate the ID numbers of the nodes to their names     \n",
    "    \n",
    "    Output: \n",
    "    The function directly prints out the path from the starting node to the target node \n",
    "    \n",
    "    \"\"\"\n",
    "    # Take the ID number of the start and target node \n",
    "    s, t = dictionary[start], dictionary[target]\n",
    "    # The list to store the sequence of the nodes \n",
    "    lst = []\n",
    "    \n",
    "    # Run the while loop until we reach the start node\n",
    "    while s != t:\n",
    "        # Tracking the path from the start node to the target node in the reversed order\n",
    "        # We are back tracking from the target node back to the start node \n",
    "        lst.append(t)\n",
    "        t = pathFW[s][t]\n",
    "        \n",
    "    # Finally, add the start node to the list \n",
    "    lst.append(s)\n",
    "    # Reverse the sequence to print it out \n",
    "    lst.reverse()\n",
    "    \n",
    "    # Print out the order from start node to target node \n",
    "    for i in range(len(lst)-1):\n",
    "        print(dictionary_reverse[lst[i]], end = \" => \")\n",
    "    print(dictionary_reverse[lst[-1]])      "
   ]
  },
  {
   "cell_type": "code",
   "execution_count": 13,
   "metadata": {},
   "outputs": [
    {
     "name": "stdout",
     "output_type": "stream",
     "text": [
      "Minimum cost from Seoul to Hyderabad is $350\n",
      "Seoul => Kuala Lumpur => Hyderabad\n"
     ]
    }
   ],
   "source": [
    "# Test cases\n",
    "ans = FloydWarshall(\"Seoul\", \"Hyderabad\", 5, cities, cities_reverse, test1)\n",
    "print(\"Minimum cost from Seoul to Hyderabad is ${}\".format(ans))\n",
    "\n",
    "# Print the path \n",
    "printPath(\"Seoul\", \"Hyderabad\", cities, cities_reverse)"
   ]
  },
  {
   "cell_type": "code",
   "execution_count": 14,
   "metadata": {},
   "outputs": [
    {
     "name": "stdout",
     "output_type": "stream",
     "text": [
      "Minimum cost from Seoul to Hyderabad is $350\n",
      "Seoul => Kuala Lumpur => Hyderabad\n"
     ]
    }
   ],
   "source": [
    "ans = FloydWarshall(\"Seoul\", \"Hyderabad\", 6, cities, cities_reverse, test2)\n",
    "print(\"Minimum cost from Seoul to Hyderabad is ${}\".format(ans))\n",
    "\n",
    "# Print the path \n",
    "printPath(\"Seoul\", \"Hyderabad\", cities, cities_reverse)"
   ]
  },
  {
   "cell_type": "code",
   "execution_count": 15,
   "metadata": {},
   "outputs": [
    {
     "name": "stdout",
     "output_type": "stream",
     "text": [
      "Minimum cost from Tokyo to Hyderabad is $400\n",
      "Tokyo => Bangkok => Mumbai => Hyderabad\n"
     ]
    }
   ],
   "source": [
    "ans = FloydWarshall(\"Tokyo\", \"Hyderabad\", 6, cities, cities_reverse, test3)\n",
    "print(\"Minimum cost from Tokyo to Hyderabad is ${}\".format(ans))\n",
    "\n",
    "# Print the path \n",
    "printPath(\"Tokyo\", \"Hyderabad\", cities, cities_reverse)"
   ]
  },
  {
   "cell_type": "markdown",
   "metadata": {},
   "source": [
    "## Appendix 4: Running time examination\n",
    "\n",
    "I'm writing modified code for each algorithm because the input from the randomly generated graph function does not require a dictionary to translate from string to integer. "
   ]
  },
  {
   "cell_type": "markdown",
   "metadata": {},
   "source": [
    "### Bellman-Ford algorithm to test running time"
   ]
  },
  {
   "cell_type": "code",
   "execution_count": 16,
   "metadata": {},
   "outputs": [],
   "source": [
    "# Declare global variables \n",
    "INF = float(\"inf\")\n",
    "\n",
    "# Class Edge to store the information of each edge in the edge list \n",
    "class Edge:\n",
    "    def __init__(self, source, target, weight):\n",
    "        self.source = source \n",
    "        self.target = target \n",
    "        self.weight = weight \n",
    "\n",
    "# Function to create one-dimensional graph from the edge list \n",
    "def graph_1D(edge_list):\n",
    "    graph = []\n",
    "    # Loop through each edge in the edge_list \n",
    "    for i in range(len(edge_list)):\n",
    "        # u, v are the 2 cities\n",
    "        # w is the price flying from city u to city v \n",
    "        u, v, w = edge_list[i]\n",
    "        # Append it to the one-dimensional graph \n",
    "        graph.append(Edge(u, v, w))\n",
    "    return graph \n",
    "\n",
    "# Function Bellman-Ford\n",
    "def BellmanFord_General(start, target, nodes, edge_list):\n",
    "    \"\"\"\n",
    "    Inputs: s, n, m\n",
    "    start: Starting node\n",
    "    target: Target node \n",
    "    nodes: Number of nodes in the graph \n",
    "    edge_list: The edge list representing the flying routes between cities \n",
    "    \n",
    "    Output:\n",
    "    True/False: whether we can find the shortest distance \n",
    "    \"\"\"\n",
    "    # Prepare the data structures     \n",
    "    MAX = nodes + 1 \n",
    "    graph = graph_1D(edge_list) # To store the nodes in the graph \n",
    "    dist = [INF for i in range(MAX)] # To store the distance from one node to another \n",
    "    \n",
    "    # Initialize the function by setting the distance from the starting node to itself as 0 \n",
    "    dist[start] = 0 \n",
    "    # Loop through all the nodes (n-1) times \n",
    "    for i in range(1, nodes):\n",
    "        # Loop through all the edges \n",
    "        for j in range(len(edge_list)):\n",
    "            u = graph[j].source\n",
    "            v = graph[j].target \n",
    "            w = graph[j].weight\n",
    "            # If there exists a route from source u to target v with lower cost than the current one\n",
    "            # then we update the distance of target v \n",
    "            if (dist[u] != INF) and (dist[u] + w < dist[v]):\n",
    "                dist[v] = dist[u] + w  \n",
    "    \n",
    "    # Return the shortest distance from start node to target node\n",
    "    return dist[target]"
   ]
  },
  {
   "cell_type": "markdown",
   "metadata": {},
   "source": [
    "### Dijkstra's algorithm to test running time"
   ]
  },
  {
   "cell_type": "code",
   "execution_count": 17,
   "metadata": {},
   "outputs": [],
   "source": [
    "# Import library \n",
    "import queue \n",
    "\n",
    "# Declare global variables \n",
    "INF = float(\"inf\")\n",
    "\n",
    "# Class Node to store the information of each node in the graph: its ID number and distance\n",
    "class Node:\n",
    "    def __init__(self, ID, distance):\n",
    "        self.ID = ID \n",
    "        self.distance = distance \n",
    "    \n",
    "    # To organize the node from the shortest distance to longest \n",
    "    def __lt__(self, other):\n",
    "        return self.distance <= other.distance\n",
    "    \n",
    "# Function to create two-dimensional graph from the edge list \n",
    "def graph_2D(edge_list):\n",
    "    graph = [[] for i in range(len(edge_list)+1)]\n",
    "    for i in range(len(edge_list)):\n",
    "        city1 = edge_list[i][0]\n",
    "        city2 = edge_list[i][1]\n",
    "        distance = edge_list[i][2]\n",
    "        graph[city1].append(Node(city2, distance))\n",
    "    return graph \n",
    "        \n",
    "    \n",
    "def Dijkstra_General(start, target, nodes, edge_list):\n",
    "    \"\"\"\n",
    "    Inputs:\n",
    "    start: Starting node\n",
    "    target: Target node \n",
    "    nodes: Number of nodes in the graph \n",
    "    dictionary: The dictionary to translate the names of the node to their ID numbers \n",
    "    dictionary_reverse: The dictionary to translate the ID numbers of the nodes to their names \n",
    "    edge_list: The edge list representing the flying routes between cities \n",
    "        \n",
    "    Output:\n",
    "    dist[dictionary[target]]: The shortest distance from the start node to the target node \n",
    "\n",
    "    \"\"\"\n",
    "    \n",
    "    # Prepare the data structures \n",
    "    MAX = nodes + 1 \n",
    "    graph = graph_2D(edge_list)\n",
    "    dist = [INF for i in range(MAX)]\n",
    "    \n",
    "    # Priority queue to get the nodes with shortest distance \n",
    "    pq = queue.PriorityQueue()\n",
    "    # Initialize the function by putting the start node to the queue, distance 0 \n",
    "    pq.put(Node(start, 0))\n",
    "    dist[start] = 0 \n",
    "    \n",
    "    # Run the while loop when we still have nodes in the priority queue\n",
    "    while not pq.empty():\n",
    "        # Get the top node in the queue\n",
    "        top = pq.get()\n",
    "        u = top.ID\n",
    "        w = top.distance \n",
    "        # For all neighbor nodes in graph of u \n",
    "        for neighbor in graph[u]:\n",
    "            # If there exists a route from node u to neighbor with lower cost than the current one\n",
    "            # then we update the distance of neighbor node\n",
    "            if neighbor.distance + w < dist[neighbor.ID]:\n",
    "                dist[neighbor.ID] = w + neighbor.distance\n",
    "                # We put this node and its updated distance to the priority queue\n",
    "                pq.put(Node(neighbor.ID, dist[neighbor.ID]))\n",
    "                \n",
    "    # Return the shortest distance from start node to target node\n",
    "    return dist[target]"
   ]
  },
  {
   "cell_type": "markdown",
   "metadata": {},
   "source": [
    "### Floyd-Warshall algorithm to test running time"
   ]
  },
  {
   "cell_type": "code",
   "execution_count": 18,
   "metadata": {},
   "outputs": [],
   "source": [
    "# Declare global variables \n",
    "INF = float(\"inf\")\n",
    "\n",
    "# Function Floyd-Warshall  \n",
    "def FloydWarshall_General(start, target, nodes, edge_list):\n",
    "    \"\"\"\n",
    "    \n",
    "    Inputs: \n",
    "    start: Starting node\n",
    "    target: Target node \n",
    "    nodes: Number of nodes in the graph \n",
    "    dictionary: The dictionary to translate the names of the node to their ID numbers \n",
    "    dictionary_reverse: The dictionary to translate the ID numbers of the nodes to their names \n",
    "    edge_list: The edge list representing the flying routes between cities \n",
    "    \n",
    "    Output:\n",
    "    dist[dictionary[start]][dictionary[target]]: The shortest distance from the start node to the target node \n",
    "    \n",
    "    \"\"\"    \n",
    "    \n",
    "    # Initialize the data structures \n",
    "    MAX = nodes + 1 \n",
    "    graph = [[INF for i in range(MAX)] for j in range(MAX)] # To store the nodes in the graph \n",
    "    dist = [[INF for i in range(MAX)] for j in range(MAX)]  # To store the distance from one node to another \n",
    "\n",
    "    # If the starting and ending nodes are the same, then there is no route between them\n",
    "    for i in range(MAX):\n",
    "        for j in range(MAX):\n",
    "            if i == j:\n",
    "                graph[i][j] = 0 \n",
    "            \n",
    "    # Update the information in graph, dist, path according to the edge list\n",
    "    for i in range(len(edge_list)):\n",
    "        city1 = edge_list[i][0]\n",
    "        city2 = edge_list[i][1]\n",
    "        distance = edge_list[i][2]\n",
    "        graph[city1][city2] = distance \n",
    "        dist[city1][city2] = distance \n",
    "                \n",
    "    # Run 3 for loops to update the distance \n",
    "    for k in range(MAX):\n",
    "        for i in range(MAX):\n",
    "            for j in range(MAX):\n",
    "            # If there exists a node k such that going from i to j through k is shorter than going directly from i to j \n",
    "            # then we update the distance from i to j \n",
    "                if dist[i][j] > dist[i][k] + dist[k][j]:\n",
    "                    dist[i][j] = dist[i][k] + dist[k][j]\n",
    "    \n",
    "    # Return the shortest distance from start node to target node\n",
    "    return dist[start][target]"
   ]
  },
  {
   "cell_type": "markdown",
   "metadata": {},
   "source": [
    "### Generate data to push into the algorithms"
   ]
  },
  {
   "cell_type": "code",
   "execution_count": 19,
   "metadata": {},
   "outputs": [],
   "source": [
    "# Import library\n",
    "import random \n",
    "\n",
    "def random_graph_generator(n):\n",
    "    \"\"\"\n",
    "    Function to generate random graphs to push to the 3 graph algorithms\n",
    "    \n",
    "    Input: n: Number of nodes in the graph\n",
    "    \n",
    "    Output: graph: An edge list with each edge comprised of a start node, end node, and cost from start to end node\n",
    "    \"\"\"\n",
    "    \n",
    "    # Declare the number of edges in the graph\n",
    "    # Actually the number of edges can be any as long as it is less than n*(n-1)/2\n",
    "    # But for the sake of calculating the running time, we predefine the number of edges here \n",
    "    num_edges = n*(n-1)//2 \n",
    "    \n",
    "    # Initialize the edge list \n",
    "    edge_list = []\n",
    "    \n",
    "    # Run through all edges in the edge list \n",
    "    for i in range(num_edges):\n",
    "        a = random.randint(0, n-1) # Start node \n",
    "        b = random.randint(0, n-1) # End node \n",
    "        w = random.randint(0, 1000) if a != b else 0 # Random traveling cost from node a to b \n",
    "        edge_list.append((a, b, w)) # Append the edge to the edge list \n",
    "        \n",
    "    # Return the edge list\n",
    "    return edge_list "
   ]
  },
  {
   "cell_type": "markdown",
   "metadata": {},
   "source": [
    "### Plot the results"
   ]
  },
  {
   "cell_type": "code",
   "execution_count": 21,
   "metadata": {},
   "outputs": [
    {
     "data": {
      "image/png": "[encoded data removed]",
      "text/plain": [
       "<Figure size 432x288 with 1 Axes>"
      ]
     },
     "metadata": {
      "needs_background": "light"
     },
     "output_type": "display_data"
    }
   ],
   "source": [
    "# Import plotting and time libraries \n",
    "import matplotlib.pyplot as plt \n",
    "import time \n",
    "\n",
    "# Initialize the storage array to store the running time of 3 algorithms \n",
    "bf_time = [] # Bellman-Ford function\n",
    "d_time = [] # Dijkstra function\n",
    "fw_time = [] # Floyd-Warshall function \n",
    "x = [i for i in range(3, 101)] # This is the x-axis: Input size from 3 to 100 (inclusize)\n",
    "\n",
    "# Running time of each algorithm with respect to the growth in input size\n",
    "# Input ranges from 3 to 100 (inclusive)\n",
    "for n in range(3, 101, 1): \n",
    "    # Create temporary arrays to store the time\n",
    "    # For each length we would run the function 50 times, then average the results\n",
    "    bf_time_temp = []\n",
    "    d_time_temp = []\n",
    "    fw_time_temp = []\n",
    "    \n",
    "    # Run each function 50 times for each input size\n",
    "    for i in range(50):\n",
    "        # Create the edge list with nodes \n",
    "        data = random_graph_generator(n)\n",
    "\n",
    "        # Timing the running time of Bellman-Ford algorithm \n",
    "        start_BF = time.time()\n",
    "        BellmanFord_General(0, n-1, n, data)\n",
    "        end_BF = time.time()\n",
    "        bf_time_temp.append(end_BF-start_BF)\n",
    "        \n",
    "        # Timing the running time of Dijkstra's algorithm \n",
    "        start_D = time.time()\n",
    "        Dijkstra_General(0, n-1, n, data)\n",
    "        end_D = time.time()\n",
    "        d_time_temp.append(end_D-start_D)\n",
    "        \n",
    "        # Timing the running time of Floyd-Warshall algorithm \n",
    "        start_FW = time.time()\n",
    "        FloydWarshall_General(0, n-1, n, data)\n",
    "        end_FW = time.time()\n",
    "        fw_time_temp.append(end_FW-start_FW)\n",
    "    \n",
    "    # Average the result of 50 running times. Then append it to the storage array \n",
    "    bf_time.append(sum(bf_time_temp)/50)\n",
    "    d_time.append(sum(d_time_temp)/50)\n",
    "    fw_time.append(sum(fw_time_temp)/50)\n",
    "    \n",
    "# Plot the running time of each function versus its growth in input size   \n",
    "plt.plot(x, bf_time, color = \"orange\", linestyle = \"dashed\", marker='o', label = \"Bellman-Ford\")   \n",
    "plt.plot(x, d_time, color = \"green\", linestyle = \"dashed\", marker='o', label = \"Dijkstra's\")   \n",
    "plt.plot(x, fw_time, color = \"blue\", linestyle = \"dashed\", marker='o', label = \"Floyd-Warshall\")   \n",
    "plt.xlabel(\"Number of nodes\")\n",
    "plt.ylabel(\"Running time\")\n",
    "plt.title(\"\"\"Running time with respect to the growth of number of nodes in the graph\"\"\")\n",
    "plt.legend()\n",
    "plt.show() "
   ]
  }
 ],
 "metadata": {
  "kernelspec": {
   "display_name": "Python 3",
   "language": "python",
   "name": "python3"
  },
  "language_info": {
   "codemirror_mode": {
    "name": "ipython",
    "version": 3
   },
   "file_extension": ".py",
   "mimetype": "text/x-python",
   "name": "python",
   "nbconvert_exporter": "python",
   "pygments_lexer": "ipython3",
   "version": "3.7.1"
  }
 },
 "nbformat": 4,
 "nbformat_minor": 2
}
